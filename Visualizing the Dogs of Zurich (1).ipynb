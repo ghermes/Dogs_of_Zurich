{
 "cells": [
  {
   "cell_type": "code",
   "execution_count": 1,
   "metadata": {},
   "outputs": [],
   "source": [
    "# Sourcing and Importing "
   ]
  },
  {
   "cell_type": "code",
   "execution_count": 2,
   "metadata": {},
   "outputs": [],
   "source": [
    "import numpy as np\n",
    "import pandas as pd \n",
    "import matplotlib as mpl \n",
    "import matplotlib.pyplot as plt \n",
    "import seaborn as sns \n",
    "import statsmodels.api as sm \n",
    "from statsmodels.graphics.api import abline_plot \n",
    "from sklearn.metrics import mean_squared_error, r2_score \n",
    "from sklearn.model_selection import train_test_split \n",
    "from sklearn import linear_model, preprocessing \n",
    "import warnings # For handling error messages \n",
    "warnings.simplefilter(action=\"ignore\", category=FutureWarning)\n",
    "warnings.filterwarnings(action=\"ignore\", module=\"scipy\", message=\"^internal gelsd\") "
   ]
  },
  {
   "cell_type": "code",
   "execution_count": 3,
   "metadata": {},
   "outputs": [
    {
     "data": {
      "text/html": [
       "<div>\n",
       "<style scoped>\n",
       "    .dataframe tbody tr th:only-of-type {\n",
       "        vertical-align: middle;\n",
       "    }\n",
       "\n",
       "    .dataframe tbody tr th {\n",
       "        vertical-align: top;\n",
       "    }\n",
       "\n",
       "    .dataframe thead th {\n",
       "        text-align: right;\n",
       "    }\n",
       "</style>\n",
       "<table border=\"1\" class=\"dataframe\">\n",
       "  <thead>\n",
       "    <tr style=\"text-align: right;\">\n",
       "      <th></th>\n",
       "      <th>Owner_ID</th>\n",
       "      <th>Age</th>\n",
       "      <th>Gender</th>\n",
       "      <th>City District</th>\n",
       "      <th>City Quarter</th>\n",
       "      <th>Primary Breed</th>\n",
       "      <th>Primary Hybrid</th>\n",
       "      <th>Secondary Breed</th>\n",
       "      <th>Secondary Hybrid</th>\n",
       "      <th>Breed Type</th>\n",
       "      <th>Dog Birth Year</th>\n",
       "      <th>Dog Gender</th>\n",
       "      <th>Dog Hair Color</th>\n",
       "    </tr>\n",
       "  </thead>\n",
       "  <tbody>\n",
       "    <tr>\n",
       "      <th>0</th>\n",
       "      <td>126</td>\n",
       "      <td>51-60</td>\n",
       "      <td>m</td>\n",
       "      <td>9.0</td>\n",
       "      <td>92.0</td>\n",
       "      <td>Welsh Terrier</td>\n",
       "      <td>NaN</td>\n",
       "      <td>NaN</td>\n",
       "      <td>NaN</td>\n",
       "      <td>K</td>\n",
       "      <td>2011</td>\n",
       "      <td>w</td>\n",
       "      <td>schwarz/braun</td>\n",
       "    </tr>\n",
       "    <tr>\n",
       "      <th>1</th>\n",
       "      <td>574</td>\n",
       "      <td>61-70</td>\n",
       "      <td>w</td>\n",
       "      <td>2.0</td>\n",
       "      <td>23.0</td>\n",
       "      <td>Cairn Terrier</td>\n",
       "      <td>NaN</td>\n",
       "      <td>NaN</td>\n",
       "      <td>NaN</td>\n",
       "      <td>K</td>\n",
       "      <td>2002</td>\n",
       "      <td>w</td>\n",
       "      <td>brindle</td>\n",
       "    </tr>\n",
       "    <tr>\n",
       "      <th>2</th>\n",
       "      <td>695</td>\n",
       "      <td>41-50</td>\n",
       "      <td>m</td>\n",
       "      <td>6.0</td>\n",
       "      <td>63.0</td>\n",
       "      <td>Labrador Retriever</td>\n",
       "      <td>NaN</td>\n",
       "      <td>NaN</td>\n",
       "      <td>NaN</td>\n",
       "      <td>I</td>\n",
       "      <td>2012</td>\n",
       "      <td>w</td>\n",
       "      <td>braun</td>\n",
       "    </tr>\n",
       "    <tr>\n",
       "      <th>3</th>\n",
       "      <td>893</td>\n",
       "      <td>61-70</td>\n",
       "      <td>w</td>\n",
       "      <td>7.0</td>\n",
       "      <td>71.0</td>\n",
       "      <td>Mittelschnauzer</td>\n",
       "      <td>NaN</td>\n",
       "      <td>NaN</td>\n",
       "      <td>NaN</td>\n",
       "      <td>I</td>\n",
       "      <td>2010</td>\n",
       "      <td>w</td>\n",
       "      <td>schwarz</td>\n",
       "    </tr>\n",
       "    <tr>\n",
       "      <th>4</th>\n",
       "      <td>1177</td>\n",
       "      <td>51-60</td>\n",
       "      <td>m</td>\n",
       "      <td>10.0</td>\n",
       "      <td>102.0</td>\n",
       "      <td>Shih Tzu</td>\n",
       "      <td>NaN</td>\n",
       "      <td>NaN</td>\n",
       "      <td>NaN</td>\n",
       "      <td>K</td>\n",
       "      <td>2011</td>\n",
       "      <td>m</td>\n",
       "      <td>schwarz/weiss</td>\n",
       "    </tr>\n",
       "  </tbody>\n",
       "</table>\n",
       "</div>"
      ],
      "text/plain": [
       "   Owner_ID    Age Gender  City District  City Quarter       Primary Breed  \\\n",
       "0       126  51-60      m            9.0          92.0       Welsh Terrier   \n",
       "1       574  61-70      w            2.0          23.0       Cairn Terrier   \n",
       "2       695  41-50      m            6.0          63.0  Labrador Retriever   \n",
       "3       893  61-70      w            7.0          71.0     Mittelschnauzer   \n",
       "4      1177  51-60      m           10.0         102.0            Shih Tzu   \n",
       "\n",
       "  Primary Hybrid Secondary Breed  Secondary Hybrid Breed Type  Dog Birth Year  \\\n",
       "0            NaN             NaN               NaN          K            2011   \n",
       "1            NaN             NaN               NaN          K            2002   \n",
       "2            NaN             NaN               NaN          I            2012   \n",
       "3            NaN             NaN               NaN          I            2010   \n",
       "4            NaN             NaN               NaN          K            2011   \n",
       "\n",
       "  Dog Gender Dog Hair Color  \n",
       "0          w  schwarz/braun  \n",
       "1          w        brindle  \n",
       "2          w          braun  \n",
       "3          w        schwarz  \n",
       "4          m  schwarz/weiss  "
      ]
     },
     "execution_count": 3,
     "metadata": {},
     "output_type": "execute_result"
    }
   ],
   "source": [
    "df_2015 = pd.read_csv('2015dogdata.csv')\n",
    "df_2015.head() "
   ]
  },
  {
   "cell_type": "code",
   "execution_count": 4,
   "metadata": {},
   "outputs": [
    {
     "data": {
      "text/html": [
       "<div>\n",
       "<style scoped>\n",
       "    .dataframe tbody tr th:only-of-type {\n",
       "        vertical-align: middle;\n",
       "    }\n",
       "\n",
       "    .dataframe tbody tr th {\n",
       "        vertical-align: top;\n",
       "    }\n",
       "\n",
       "    .dataframe thead th {\n",
       "        text-align: right;\n",
       "    }\n",
       "</style>\n",
       "<table border=\"1\" class=\"dataframe\">\n",
       "  <thead>\n",
       "    <tr style=\"text-align: right;\">\n",
       "      <th></th>\n",
       "      <th>Owner_ID</th>\n",
       "      <th>Age</th>\n",
       "      <th>Gender</th>\n",
       "      <th>City District</th>\n",
       "      <th>City Quarter</th>\n",
       "      <th>Primary Breed</th>\n",
       "      <th>Primary Hybrid</th>\n",
       "      <th>Secondary Breed</th>\n",
       "      <th>Secondary Hybrid</th>\n",
       "      <th>Breed Type</th>\n",
       "      <th>Dog Birth Year</th>\n",
       "      <th>Dog Gender</th>\n",
       "      <th>Dog Hair Color</th>\n",
       "    </tr>\n",
       "  </thead>\n",
       "  <tbody>\n",
       "    <tr>\n",
       "      <th>0</th>\n",
       "      <td>126</td>\n",
       "      <td>51-60</td>\n",
       "      <td>m</td>\n",
       "      <td>9.0</td>\n",
       "      <td>92.0</td>\n",
       "      <td>Welsh Terrier</td>\n",
       "      <td>NaN</td>\n",
       "      <td>NaN</td>\n",
       "      <td>NaN</td>\n",
       "      <td>K</td>\n",
       "      <td>2011</td>\n",
       "      <td>w</td>\n",
       "      <td>schwarz/braun</td>\n",
       "    </tr>\n",
       "    <tr>\n",
       "      <th>1</th>\n",
       "      <td>171</td>\n",
       "      <td>61-70</td>\n",
       "      <td>m</td>\n",
       "      <td>3.0</td>\n",
       "      <td>31.0</td>\n",
       "      <td>Berner Sennenhund</td>\n",
       "      <td>NaN</td>\n",
       "      <td>NaN</td>\n",
       "      <td>NaN</td>\n",
       "      <td>I</td>\n",
       "      <td>2009</td>\n",
       "      <td>m</td>\n",
       "      <td>tricolor</td>\n",
       "    </tr>\n",
       "    <tr>\n",
       "      <th>2</th>\n",
       "      <td>574</td>\n",
       "      <td>61-70</td>\n",
       "      <td>w</td>\n",
       "      <td>2.0</td>\n",
       "      <td>23.0</td>\n",
       "      <td>Cairn Terrier</td>\n",
       "      <td>NaN</td>\n",
       "      <td>NaN</td>\n",
       "      <td>NaN</td>\n",
       "      <td>K</td>\n",
       "      <td>2002</td>\n",
       "      <td>w</td>\n",
       "      <td>brindle</td>\n",
       "    </tr>\n",
       "    <tr>\n",
       "      <th>3</th>\n",
       "      <td>695</td>\n",
       "      <td>41-50</td>\n",
       "      <td>m</td>\n",
       "      <td>6.0</td>\n",
       "      <td>63.0</td>\n",
       "      <td>Labrador Retriever</td>\n",
       "      <td>NaN</td>\n",
       "      <td>NaN</td>\n",
       "      <td>NaN</td>\n",
       "      <td>I</td>\n",
       "      <td>2012</td>\n",
       "      <td>w</td>\n",
       "      <td>braun</td>\n",
       "    </tr>\n",
       "    <tr>\n",
       "      <th>4</th>\n",
       "      <td>893</td>\n",
       "      <td>61-70</td>\n",
       "      <td>w</td>\n",
       "      <td>7.0</td>\n",
       "      <td>71.0</td>\n",
       "      <td>Mittelschnauzer</td>\n",
       "      <td>NaN</td>\n",
       "      <td>NaN</td>\n",
       "      <td>NaN</td>\n",
       "      <td>I</td>\n",
       "      <td>2010</td>\n",
       "      <td>w</td>\n",
       "      <td>schwarz</td>\n",
       "    </tr>\n",
       "  </tbody>\n",
       "</table>\n",
       "</div>"
      ],
      "text/plain": [
       "   Owner_ID    Age Gender  City District  City Quarter       Primary Breed  \\\n",
       "0       126  51-60      m            9.0          92.0       Welsh Terrier   \n",
       "1       171  61-70      m            3.0          31.0   Berner Sennenhund   \n",
       "2       574  61-70      w            2.0          23.0       Cairn Terrier   \n",
       "3       695  41-50      m            6.0          63.0  Labrador Retriever   \n",
       "4       893  61-70      w            7.0          71.0     Mittelschnauzer   \n",
       "\n",
       "  Primary Hybrid Secondary Breed  Secondary Hybrid Breed Type  Dog Birth Year  \\\n",
       "0            NaN             NaN               NaN          K            2011   \n",
       "1            NaN             NaN               NaN          I            2009   \n",
       "2            NaN             NaN               NaN          K            2002   \n",
       "3            NaN             NaN               NaN          I            2012   \n",
       "4            NaN             NaN               NaN          I            2010   \n",
       "\n",
       "  Dog Gender Dog Hair Color  \n",
       "0          w  schwarz/braun  \n",
       "1          m       tricolor  \n",
       "2          w        brindle  \n",
       "3          w          braun  \n",
       "4          w        schwarz  "
      ]
     },
     "execution_count": 4,
     "metadata": {},
     "output_type": "execute_result"
    }
   ],
   "source": [
    "df_2016 = pd.read_csv('2016dogdata.csv') \n",
    "df_2016.head() "
   ]
  },
  {
   "cell_type": "code",
   "execution_count": 5,
   "metadata": {},
   "outputs": [
    {
     "data": {
      "text/html": [
       "<div>\n",
       "<style scoped>\n",
       "    .dataframe tbody tr th:only-of-type {\n",
       "        vertical-align: middle;\n",
       "    }\n",
       "\n",
       "    .dataframe tbody tr th {\n",
       "        vertical-align: top;\n",
       "    }\n",
       "\n",
       "    .dataframe thead th {\n",
       "        text-align: right;\n",
       "    }\n",
       "</style>\n",
       "<table border=\"1\" class=\"dataframe\">\n",
       "  <thead>\n",
       "    <tr style=\"text-align: right;\">\n",
       "      <th></th>\n",
       "      <th>Owner_ID</th>\n",
       "      <th>Age</th>\n",
       "      <th>Gender</th>\n",
       "      <th>City District</th>\n",
       "      <th>City Quarter</th>\n",
       "      <th>Primary Breed</th>\n",
       "      <th>Primary Hybrid</th>\n",
       "      <th>Secondary Breed</th>\n",
       "      <th>Secondary Hybrid</th>\n",
       "      <th>Breed Type</th>\n",
       "      <th>Dog Birth Year</th>\n",
       "      <th>Dog Gender</th>\n",
       "      <th>Dog Hair Color</th>\n",
       "    </tr>\n",
       "  </thead>\n",
       "  <tbody>\n",
       "    <tr>\n",
       "      <th>0</th>\n",
       "      <td>126</td>\n",
       "      <td>61-70</td>\n",
       "      <td>m</td>\n",
       "      <td>9.0</td>\n",
       "      <td>92.0</td>\n",
       "      <td>Welsh Terrier</td>\n",
       "      <td>NaN</td>\n",
       "      <td>NaN</td>\n",
       "      <td>NaN</td>\n",
       "      <td>K</td>\n",
       "      <td>2011</td>\n",
       "      <td>w</td>\n",
       "      <td>schwarz/braun</td>\n",
       "    </tr>\n",
       "    <tr>\n",
       "      <th>1</th>\n",
       "      <td>171</td>\n",
       "      <td>61-70</td>\n",
       "      <td>m</td>\n",
       "      <td>3.0</td>\n",
       "      <td>31.0</td>\n",
       "      <td>Berner Sennenhund</td>\n",
       "      <td>NaN</td>\n",
       "      <td>NaN</td>\n",
       "      <td>NaN</td>\n",
       "      <td>I</td>\n",
       "      <td>2009</td>\n",
       "      <td>m</td>\n",
       "      <td>tricolor</td>\n",
       "    </tr>\n",
       "    <tr>\n",
       "      <th>2</th>\n",
       "      <td>574</td>\n",
       "      <td>61-70</td>\n",
       "      <td>w</td>\n",
       "      <td>2.0</td>\n",
       "      <td>23.0</td>\n",
       "      <td>Mischling gross</td>\n",
       "      <td>NaN</td>\n",
       "      <td>NaN</td>\n",
       "      <td>NaN</td>\n",
       "      <td>I</td>\n",
       "      <td>2013</td>\n",
       "      <td>w</td>\n",
       "      <td>schwarz</td>\n",
       "    </tr>\n",
       "    <tr>\n",
       "      <th>3</th>\n",
       "      <td>695</td>\n",
       "      <td>41-50</td>\n",
       "      <td>m</td>\n",
       "      <td>6.0</td>\n",
       "      <td>63.0</td>\n",
       "      <td>Labrador Retriever</td>\n",
       "      <td>NaN</td>\n",
       "      <td>NaN</td>\n",
       "      <td>NaN</td>\n",
       "      <td>I</td>\n",
       "      <td>2012</td>\n",
       "      <td>w</td>\n",
       "      <td>braun</td>\n",
       "    </tr>\n",
       "    <tr>\n",
       "      <th>4</th>\n",
       "      <td>893</td>\n",
       "      <td>61-70</td>\n",
       "      <td>w</td>\n",
       "      <td>7.0</td>\n",
       "      <td>71.0</td>\n",
       "      <td>Mittelschnauzer</td>\n",
       "      <td>NaN</td>\n",
       "      <td>NaN</td>\n",
       "      <td>NaN</td>\n",
       "      <td>I</td>\n",
       "      <td>2010</td>\n",
       "      <td>w</td>\n",
       "      <td>schwarz</td>\n",
       "    </tr>\n",
       "  </tbody>\n",
       "</table>\n",
       "</div>"
      ],
      "text/plain": [
       "   Owner_ID    Age Gender  City District  City Quarter       Primary Breed  \\\n",
       "0       126  61-70      m            9.0          92.0       Welsh Terrier   \n",
       "1       171  61-70      m            3.0          31.0   Berner Sennenhund   \n",
       "2       574  61-70      w            2.0          23.0     Mischling gross   \n",
       "3       695  41-50      m            6.0          63.0  Labrador Retriever   \n",
       "4       893  61-70      w            7.0          71.0     Mittelschnauzer   \n",
       "\n",
       "  Primary Hybrid Secondary Breed  Secondary Hybrid Breed Type  Dog Birth Year  \\\n",
       "0            NaN             NaN               NaN          K            2011   \n",
       "1            NaN             NaN               NaN          I            2009   \n",
       "2            NaN             NaN               NaN          I            2013   \n",
       "3            NaN             NaN               NaN          I            2012   \n",
       "4            NaN             NaN               NaN          I            2010   \n",
       "\n",
       "  Dog Gender Dog Hair Color  \n",
       "0          w  schwarz/braun  \n",
       "1          m       tricolor  \n",
       "2          w        schwarz  \n",
       "3          w          braun  \n",
       "4          w        schwarz  "
      ]
     },
     "execution_count": 5,
     "metadata": {},
     "output_type": "execute_result"
    }
   ],
   "source": [
    "df_2017 = pd.read_csv('2017dogdata.csv') \n",
    "df_2017.head() "
   ]
  },
  {
   "cell_type": "code",
   "execution_count": 6,
   "metadata": {},
   "outputs": [],
   "source": [
    "# Cleaning and Transforming"
   ]
  },
  {
   "cell_type": "code",
   "execution_count": 7,
   "metadata": {},
   "outputs": [
    {
     "data": {
      "text/html": [
       "<div>\n",
       "<style scoped>\n",
       "    .dataframe tbody tr th:only-of-type {\n",
       "        vertical-align: middle;\n",
       "    }\n",
       "\n",
       "    .dataframe tbody tr th {\n",
       "        vertical-align: top;\n",
       "    }\n",
       "\n",
       "    .dataframe thead th {\n",
       "        text-align: right;\n",
       "    }\n",
       "</style>\n",
       "<table border=\"1\" class=\"dataframe\">\n",
       "  <thead>\n",
       "    <tr style=\"text-align: right;\">\n",
       "      <th></th>\n",
       "      <th>Age</th>\n",
       "      <th>Gender</th>\n",
       "      <th>City District</th>\n",
       "      <th>City Quarter</th>\n",
       "      <th>Breed Type</th>\n",
       "      <th>Dog Gender</th>\n",
       "      <th>Dog Hair Color</th>\n",
       "    </tr>\n",
       "  </thead>\n",
       "  <tbody>\n",
       "    <tr>\n",
       "      <th>0</th>\n",
       "      <td>51-60</td>\n",
       "      <td>m</td>\n",
       "      <td>9.0</td>\n",
       "      <td>92.0</td>\n",
       "      <td>K</td>\n",
       "      <td>w</td>\n",
       "      <td>schwarz/braun</td>\n",
       "    </tr>\n",
       "    <tr>\n",
       "      <th>1</th>\n",
       "      <td>61-70</td>\n",
       "      <td>w</td>\n",
       "      <td>2.0</td>\n",
       "      <td>23.0</td>\n",
       "      <td>K</td>\n",
       "      <td>w</td>\n",
       "      <td>brindle</td>\n",
       "    </tr>\n",
       "    <tr>\n",
       "      <th>2</th>\n",
       "      <td>41-50</td>\n",
       "      <td>m</td>\n",
       "      <td>6.0</td>\n",
       "      <td>63.0</td>\n",
       "      <td>I</td>\n",
       "      <td>w</td>\n",
       "      <td>braun</td>\n",
       "    </tr>\n",
       "    <tr>\n",
       "      <th>3</th>\n",
       "      <td>61-70</td>\n",
       "      <td>w</td>\n",
       "      <td>7.0</td>\n",
       "      <td>71.0</td>\n",
       "      <td>I</td>\n",
       "      <td>w</td>\n",
       "      <td>schwarz</td>\n",
       "    </tr>\n",
       "    <tr>\n",
       "      <th>4</th>\n",
       "      <td>51-60</td>\n",
       "      <td>m</td>\n",
       "      <td>10.0</td>\n",
       "      <td>102.0</td>\n",
       "      <td>K</td>\n",
       "      <td>m</td>\n",
       "      <td>schwarz/weiss</td>\n",
       "    </tr>\n",
       "  </tbody>\n",
       "</table>\n",
       "</div>"
      ],
      "text/plain": [
       "     Age Gender  City District  City Quarter Breed Type Dog Gender  \\\n",
       "0  51-60      m            9.0          92.0          K          w   \n",
       "1  61-70      w            2.0          23.0          K          w   \n",
       "2  41-50      m            6.0          63.0          I          w   \n",
       "3  61-70      w            7.0          71.0          I          w   \n",
       "4  51-60      m           10.0         102.0          K          m   \n",
       "\n",
       "  Dog Hair Color  \n",
       "0  schwarz/braun  \n",
       "1        brindle  \n",
       "2          braun  \n",
       "3        schwarz  \n",
       "4  schwarz/weiss  "
      ]
     },
     "execution_count": 7,
     "metadata": {},
     "output_type": "execute_result"
    }
   ],
   "source": [
    "# Remove unneeded features \n",
    "df_2015 = df_2015[['Age', 'Gender', 'City District', 'City Quarter', 'Breed Type', 'Dog Gender', 'Dog Hair Color']]\n",
    "df_2016 = df_2016[['Age', 'Gender', 'City District', 'City Quarter', 'Breed Type', 'Dog Gender', 'Dog Hair Color']]\n",
    "df_2017 = df_2017[['Age', 'Gender', 'City District', 'City Quarter', 'Breed Type', 'Dog Gender', 'Dog Hair Color']]  \n",
    "df_2015.head() "
   ]
  },
  {
   "cell_type": "code",
   "execution_count": 8,
   "metadata": {},
   "outputs": [
    {
     "data": {
      "text/html": [
       "<div>\n",
       "<style scoped>\n",
       "    .dataframe tbody tr th:only-of-type {\n",
       "        vertical-align: middle;\n",
       "    }\n",
       "\n",
       "    .dataframe tbody tr th {\n",
       "        vertical-align: top;\n",
       "    }\n",
       "\n",
       "    .dataframe thead th {\n",
       "        text-align: right;\n",
       "    }\n",
       "</style>\n",
       "<table border=\"1\" class=\"dataframe\">\n",
       "  <thead>\n",
       "    <tr style=\"text-align: right;\">\n",
       "      <th></th>\n",
       "      <th>Age</th>\n",
       "      <th>Gender</th>\n",
       "      <th>City District</th>\n",
       "      <th>City Quarter</th>\n",
       "      <th>Breed Type</th>\n",
       "      <th>Dog Gender</th>\n",
       "      <th>Dog Hair Color</th>\n",
       "    </tr>\n",
       "  </thead>\n",
       "  <tbody>\n",
       "    <tr>\n",
       "      <th>0</th>\n",
       "      <td>51-60</td>\n",
       "      <td>m</td>\n",
       "      <td>9.0</td>\n",
       "      <td>92.0</td>\n",
       "      <td>K</td>\n",
       "      <td>w</td>\n",
       "      <td>schwarz/braun</td>\n",
       "    </tr>\n",
       "    <tr>\n",
       "      <th>1</th>\n",
       "      <td>61-70</td>\n",
       "      <td>m</td>\n",
       "      <td>3.0</td>\n",
       "      <td>31.0</td>\n",
       "      <td>I</td>\n",
       "      <td>m</td>\n",
       "      <td>tricolor</td>\n",
       "    </tr>\n",
       "    <tr>\n",
       "      <th>2</th>\n",
       "      <td>61-70</td>\n",
       "      <td>w</td>\n",
       "      <td>2.0</td>\n",
       "      <td>23.0</td>\n",
       "      <td>K</td>\n",
       "      <td>w</td>\n",
       "      <td>brindle</td>\n",
       "    </tr>\n",
       "    <tr>\n",
       "      <th>3</th>\n",
       "      <td>41-50</td>\n",
       "      <td>m</td>\n",
       "      <td>6.0</td>\n",
       "      <td>63.0</td>\n",
       "      <td>I</td>\n",
       "      <td>w</td>\n",
       "      <td>braun</td>\n",
       "    </tr>\n",
       "    <tr>\n",
       "      <th>4</th>\n",
       "      <td>61-70</td>\n",
       "      <td>w</td>\n",
       "      <td>7.0</td>\n",
       "      <td>71.0</td>\n",
       "      <td>I</td>\n",
       "      <td>w</td>\n",
       "      <td>schwarz</td>\n",
       "    </tr>\n",
       "  </tbody>\n",
       "</table>\n",
       "</div>"
      ],
      "text/plain": [
       "     Age Gender  City District  City Quarter Breed Type Dog Gender  \\\n",
       "0  51-60      m            9.0          92.0          K          w   \n",
       "1  61-70      m            3.0          31.0          I          m   \n",
       "2  61-70      w            2.0          23.0          K          w   \n",
       "3  41-50      m            6.0          63.0          I          w   \n",
       "4  61-70      w            7.0          71.0          I          w   \n",
       "\n",
       "  Dog Hair Color  \n",
       "0  schwarz/braun  \n",
       "1       tricolor  \n",
       "2        brindle  \n",
       "3          braun  \n",
       "4        schwarz  "
      ]
     },
     "execution_count": 8,
     "metadata": {},
     "output_type": "execute_result"
    }
   ],
   "source": [
    "df_2016.head() "
   ]
  },
  {
   "cell_type": "code",
   "execution_count": 9,
   "metadata": {},
   "outputs": [
    {
     "data": {
      "text/html": [
       "<div>\n",
       "<style scoped>\n",
       "    .dataframe tbody tr th:only-of-type {\n",
       "        vertical-align: middle;\n",
       "    }\n",
       "\n",
       "    .dataframe tbody tr th {\n",
       "        vertical-align: top;\n",
       "    }\n",
       "\n",
       "    .dataframe thead th {\n",
       "        text-align: right;\n",
       "    }\n",
       "</style>\n",
       "<table border=\"1\" class=\"dataframe\">\n",
       "  <thead>\n",
       "    <tr style=\"text-align: right;\">\n",
       "      <th></th>\n",
       "      <th>Age</th>\n",
       "      <th>Gender</th>\n",
       "      <th>City District</th>\n",
       "      <th>City Quarter</th>\n",
       "      <th>Breed Type</th>\n",
       "      <th>Dog Gender</th>\n",
       "      <th>Dog Hair Color</th>\n",
       "    </tr>\n",
       "  </thead>\n",
       "  <tbody>\n",
       "    <tr>\n",
       "      <th>0</th>\n",
       "      <td>61-70</td>\n",
       "      <td>m</td>\n",
       "      <td>9.0</td>\n",
       "      <td>92.0</td>\n",
       "      <td>K</td>\n",
       "      <td>w</td>\n",
       "      <td>schwarz/braun</td>\n",
       "    </tr>\n",
       "    <tr>\n",
       "      <th>1</th>\n",
       "      <td>61-70</td>\n",
       "      <td>m</td>\n",
       "      <td>3.0</td>\n",
       "      <td>31.0</td>\n",
       "      <td>I</td>\n",
       "      <td>m</td>\n",
       "      <td>tricolor</td>\n",
       "    </tr>\n",
       "    <tr>\n",
       "      <th>2</th>\n",
       "      <td>61-70</td>\n",
       "      <td>w</td>\n",
       "      <td>2.0</td>\n",
       "      <td>23.0</td>\n",
       "      <td>I</td>\n",
       "      <td>w</td>\n",
       "      <td>schwarz</td>\n",
       "    </tr>\n",
       "    <tr>\n",
       "      <th>3</th>\n",
       "      <td>41-50</td>\n",
       "      <td>m</td>\n",
       "      <td>6.0</td>\n",
       "      <td>63.0</td>\n",
       "      <td>I</td>\n",
       "      <td>w</td>\n",
       "      <td>braun</td>\n",
       "    </tr>\n",
       "    <tr>\n",
       "      <th>4</th>\n",
       "      <td>61-70</td>\n",
       "      <td>w</td>\n",
       "      <td>7.0</td>\n",
       "      <td>71.0</td>\n",
       "      <td>I</td>\n",
       "      <td>w</td>\n",
       "      <td>schwarz</td>\n",
       "    </tr>\n",
       "  </tbody>\n",
       "</table>\n",
       "</div>"
      ],
      "text/plain": [
       "     Age Gender  City District  City Quarter Breed Type Dog Gender  \\\n",
       "0  61-70      m            9.0          92.0          K          w   \n",
       "1  61-70      m            3.0          31.0          I          m   \n",
       "2  61-70      w            2.0          23.0          I          w   \n",
       "3  41-50      m            6.0          63.0          I          w   \n",
       "4  61-70      w            7.0          71.0          I          w   \n",
       "\n",
       "  Dog Hair Color  \n",
       "0  schwarz/braun  \n",
       "1       tricolor  \n",
       "2        schwarz  \n",
       "3          braun  \n",
       "4        schwarz  "
      ]
     },
     "execution_count": 9,
     "metadata": {},
     "output_type": "execute_result"
    }
   ],
   "source": [
    "df_2017.head() "
   ]
  },
  {
   "cell_type": "code",
   "execution_count": 10,
   "metadata": {},
   "outputs": [],
   "source": [
    "# Remove any NAN "
   ]
  },
  {
   "cell_type": "code",
   "execution_count": 11,
   "metadata": {},
   "outputs": [],
   "source": [
    "df_2015 = df_2015.dropna() \n",
    "df_2016 = df_2016.dropna() \n",
    "df_2017 = df_2017.dropna() "
   ]
  },
  {
   "cell_type": "code",
   "execution_count": 12,
   "metadata": {},
   "outputs": [
    {
     "data": {
      "text/plain": [
       "Age                object\n",
       "Gender             object\n",
       "City District     float64\n",
       "City Quarter      float64\n",
       "Breed Type         object\n",
       "Dog Gender         object\n",
       "Dog Hair Color     object\n",
       "dtype: object"
      ]
     },
     "execution_count": 12,
     "metadata": {},
     "output_type": "execute_result"
    }
   ],
   "source": [
    "df_2015.dtypes"
   ]
  },
  {
   "cell_type": "code",
   "execution_count": 13,
   "metadata": {},
   "outputs": [
    {
     "data": {
      "text/plain": [
       "Age                object\n",
       "Gender             object\n",
       "City District     float64\n",
       "City Quarter      float64\n",
       "Breed Type         object\n",
       "Dog Gender         object\n",
       "Dog Hair Color     object\n",
       "dtype: object"
      ]
     },
     "execution_count": 13,
     "metadata": {},
     "output_type": "execute_result"
    }
   ],
   "source": [
    "df_2016.dtypes"
   ]
  },
  {
   "cell_type": "code",
   "execution_count": 14,
   "metadata": {},
   "outputs": [
    {
     "data": {
      "text/plain": [
       "Age                object\n",
       "Gender             object\n",
       "City District     float64\n",
       "City Quarter      float64\n",
       "Breed Type         object\n",
       "Dog Gender         object\n",
       "Dog Hair Color     object\n",
       "dtype: object"
      ]
     },
     "execution_count": 14,
     "metadata": {},
     "output_type": "execute_result"
    }
   ],
   "source": [
    "df_2017.dtypes"
   ]
  },
  {
   "cell_type": "code",
   "execution_count": 15,
   "metadata": {},
   "outputs": [],
   "source": [
    "# Visualize the data "
   ]
  },
  {
   "cell_type": "code",
   "execution_count": 16,
   "metadata": {},
   "outputs": [
    {
     "data": {
      "text/plain": [
       "Text(0.5, 1.0, 'Dogs per City District 2015')"
      ]
     },
     "execution_count": 16,
     "metadata": {},
     "output_type": "execute_result"
    },
    {
     "data": {
      "image/png": "[encoded data removed]",
      "text/plain": [
       "<Figure size 432x288 with 1 Axes>"
      ]
     },
     "metadata": {
      "needs_background": "light"
     },
     "output_type": "display_data"
    }
   ],
   "source": [
    "# visualize dogs per city district\n",
    "district_2015 = df_2015['City District'] \n",
    "district_2016 = df_2016['City District'] \n",
    "district_2017 = df_2017['City District'] \n",
    "plt.hist(district_2015, bins=12, edgecolor='black') \n",
    "plt.title('Dogs per City District 2015') "
   ]
  },
  {
   "cell_type": "code",
   "execution_count": 17,
   "metadata": {},
   "outputs": [
    {
     "data": {
      "text/plain": [
       "Text(0.5, 1.0, 'Dogs per City District 2016')"
      ]
     },
     "execution_count": 17,
     "metadata": {},
     "output_type": "execute_result"
    },
    {
     "data": {
      "image/png": "[encoded data removed]",
      "text/plain": [
       "<Figure size 432x288 with 1 Axes>"
      ]
     },
     "metadata": {
      "needs_background": "light"
     },
     "output_type": "display_data"
    }
   ],
   "source": [
    "plt.hist(district_2016, bins=12, edgecolor='black') \n",
    "plt.title('Dogs per City District 2016') "
   ]
  },
  {
   "cell_type": "code",
   "execution_count": 18,
   "metadata": {},
   "outputs": [
    {
     "data": {
      "text/plain": [
       "Text(0.5, 1.0, 'Dogs per City District 2017')"
      ]
     },
     "execution_count": 18,
     "metadata": {},
     "output_type": "execute_result"
    },
    {
     "data": {
      "image/png": "[encoded data removed]",
      "text/plain": [
       "<Figure size 432x288 with 1 Axes>"
      ]
     },
     "metadata": {
      "needs_background": "light"
     },
     "output_type": "display_data"
    }
   ],
   "source": [
    "plt.hist(district_2017, bins=12, edgecolor='black') \n",
    "plt.title('Dogs per City District 2017') "
   ]
  },
  {
   "cell_type": "code",
   "execution_count": 19,
   "metadata": {},
   "outputs": [
    {
     "data": {
      "text/plain": [
       "Text(0.5, 1.0, 'Dogs per City Quarter 2015')"
      ]
     },
     "execution_count": 19,
     "metadata": {},
     "output_type": "execute_result"
    },
    {
     "data": {
      "image/png": "[encoded data removed]",
      "text/plain": [
       "<Figure size 432x288 with 1 Axes>"
      ]
     },
     "metadata": {
      "needs_background": "light"
     },
     "output_type": "display_data"
    }
   ],
   "source": [
    "#  visualize dogs per city quarter \n",
    "quarter_2015 = df_2015['City Quarter'] \n",
    "quarter_2016 = df_2016['City Quarter'] \n",
    "quarter_2017 = df_2017['City Quarter'] \n",
    "plt.hist(quarter_2015, bins=20, edgecolor='black') \n",
    "plt.title('Dogs per City Quarter 2015') "
   ]
  },
  {
   "cell_type": "code",
   "execution_count": 20,
   "metadata": {},
   "outputs": [
    {
     "data": {
      "text/plain": [
       "Text(0.5, 1.0, 'Dogs per City Quarter 2016')"
      ]
     },
     "execution_count": 20,
     "metadata": {},
     "output_type": "execute_result"
    },
    {
     "data": {
      "image/png": "[encoded data removed]",
      "text/plain": [
       "<Figure size 432x288 with 1 Axes>"
      ]
     },
     "metadata": {
      "needs_background": "light"
     },
     "output_type": "display_data"
    }
   ],
   "source": [
    "plt.hist(quarter_2016, bins=20, edgecolor='black') \n",
    "plt.title('Dogs per City Quarter 2016') "
   ]
  },
  {
   "cell_type": "code",
   "execution_count": 21,
   "metadata": {},
   "outputs": [
    {
     "data": {
      "text/plain": [
       "Text(0.5, 1.0, 'Dogs per City Quarter 2017')"
      ]
     },
     "execution_count": 21,
     "metadata": {},
     "output_type": "execute_result"
    },
    {
     "data": {
      "image/png": "[encoded data removed]",
      "text/plain": [
       "<Figure size 432x288 with 1 Axes>"
      ]
     },
     "metadata": {
      "needs_background": "light"
     },
     "output_type": "display_data"
    }
   ],
   "source": [
    "plt.hist(quarter_2017, bins=20, edgecolor='black') \n",
    "plt.title('Dogs per City Quarter 2017') "
   ]
  },
  {
   "cell_type": "code",
   "execution_count": 22,
   "metadata": {},
   "outputs": [
    {
     "data": {
      "text/plain": [
       "array(['51-60', '61-70', '41-50', '71-80', '31-40', '81-90', '21-30',\n",
       "       '91-100', '20-Nov'], dtype=object)"
      ]
     },
     "execution_count": 22,
     "metadata": {},
     "output_type": "execute_result"
    }
   ],
   "source": [
    "# visualize dog owner genders by age groups \n",
    "label = ['20-Nov', '21-30', '31-40', '41-50', '51-60', '61-70', '71-80', '81-90','91-100']\n",
    "x = np.arange(len(label))\n",
    "width = 0.35 \n",
    "\n",
    "df_2015.Age.unique() "
   ]
  },
  {
   "cell_type": "code",
   "execution_count": 24,
   "metadata": {},
   "outputs": [
    {
     "name": "stdout",
     "output_type": "stream",
     "text": [
      "[9, 177, 393, 491, 471, 339, 217, 55, 3]\n",
      "[31, 596, 847, 965, 1017, 668, 409, 105, 10]\n"
     ]
    }
   ],
   "source": [
    "men_2015, women_2015 = [], [] \n",
    "for age in label:\n",
    "    men_2015.append(len(df_2015[(df_2015.Gender == 'm') & (df_2015.Age == age)]))\n",
    "    women_2015.append(len(df_2015[(df_2015.Gender == 'w') & (df_2015.Age == age)]))\n",
    "    \n",
    "print(men_2015)\n",
    "print(women_2015) "
   ]
  },
  {
   "cell_type": "code",
   "execution_count": 25,
   "metadata": {},
   "outputs": [
    {
     "name": "stdout",
     "output_type": "stream",
     "text": [
      "[8, 174, 403, 507, 456, 340, 216, 53, 4]\n",
      "[33, 588, 890, 985, 1044, 670, 424, 120, 12]\n"
     ]
    }
   ],
   "source": [
    "men_2016, women_2016 = [], [] \n",
    "for age in label:\n",
    "    men_2016.append(len(df_2016[(df_2016.Gender == 'm') & (df_2016.Age == age)]))\n",
    "    women_2016.append(len(df_2016[(df_2016.Gender == 'w') & (df_2016.Age == age)]))\n",
    "    \n",
    "print(men_2016)\n",
    "print(women_2016) "
   ]
  },
  {
   "cell_type": "code",
   "execution_count": 26,
   "metadata": {},
   "outputs": [
    {
     "name": "stdout",
     "output_type": "stream",
     "text": [
      "[9, 181, 434, 495, 456, 342, 219, 56, 4]\n",
      "[36, 608, 949, 994, 1091, 699, 454, 116, 11]\n"
     ]
    }
   ],
   "source": [
    "men_2017, women_2017 = [], [] \n",
    "for age in label:\n",
    "    men_2017.append(len(df_2017[(df_2017.Gender == 'm') & (df_2017.Age == age)]))\n",
    "    women_2017.append(len(df_2017[(df_2017.Gender == 'w') & (df_2017.Age == age)]))\n",
    "    \n",
    "print(men_2017)\n",
    "print(women_2017) "
   ]
  },
  {
   "cell_type": "code",
   "execution_count": 27,
   "metadata": {},
   "outputs": [
    {
     "data": {
      "text/plain": [
       "<matplotlib.legend.Legend at 0x1eb265453d0>"
      ]
     },
     "execution_count": 27,
     "metadata": {},
     "output_type": "execute_result"
    },
    {
     "data": {
      "image/png": "[encoded data removed]",
      "text/plain": [
       "<Figure size 864x504 with 1 Axes>"
      ]
     },
     "metadata": {
      "needs_background": "light"
     },
     "output_type": "display_data"
    }
   ],
   "source": [
    "fig,ax = plt.subplots(figsize=(12,7))\n",
    "rec = ax.bar(x-width/2, men_2015, width, label='Men')\n",
    "rect = ax.bar(x+width/2, women_2015, width, label='Women')\n",
    "ax.set_xticks(x)\n",
    "ax.set_xticklabels(label)\n",
    "ax.set_ylabel('No. of people')\n",
    "ax.set_title('Men vs Women Ownership by Age Group 2015')\n",
    "ax.legend() "
   ]
  },
  {
   "cell_type": "code",
   "execution_count": 28,
   "metadata": {},
   "outputs": [
    {
     "data": {
      "text/plain": [
       "<matplotlib.legend.Legend at 0x1eb265dfb20>"
      ]
     },
     "execution_count": 28,
     "metadata": {},
     "output_type": "execute_result"
    },
    {
     "data": {
      "image/png": "[encoded data removed]",
      "text/plain": [
       "<Figure size 864x504 with 1 Axes>"
      ]
     },
     "metadata": {
      "needs_background": "light"
     },
     "output_type": "display_data"
    }
   ],
   "source": [
    "fig,ax = plt.subplots(figsize=(12,7))\n",
    "rec = ax.bar(x-width/2, men_2016, width, label='Men')\n",
    "rect = ax.bar(x+width/2, women_2016, width, label='Women')\n",
    "ax.set_xticks(x)\n",
    "ax.set_xticklabels(label)\n",
    "ax.set_ylabel('No. of people')\n",
    "ax.set_title('Men vs Women Ownership by Age Group 2016')\n",
    "ax.legend()"
   ]
  },
  {
   "cell_type": "code",
   "execution_count": 29,
   "metadata": {},
   "outputs": [
    {
     "data": {
      "text/plain": [
       "<matplotlib.legend.Legend at 0x1eb26671dc0>"
      ]
     },
     "execution_count": 29,
     "metadata": {},
     "output_type": "execute_result"
    },
    {
     "data": {
      "image/png": "[encoded data removed]",
      "text/plain": [
       "<Figure size 864x504 with 1 Axes>"
      ]
     },
     "metadata": {
      "needs_background": "light"
     },
     "output_type": "display_data"
    }
   ],
   "source": [
    "fig,ax = plt.subplots(figsize=(12,7))\n",
    "rec = ax.bar(x-width/2, men_2017, width, label='Men')\n",
    "rect = ax.bar(x+width/2, women_2017, width, label='Women')\n",
    "ax.set_xticks(x)\n",
    "ax.set_xticklabels(label)\n",
    "ax.set_ylabel('No. of people')\n",
    "ax.set_title('Men vs Women Ownership by Age Group 2017')\n",
    "ax.legend()"
   ]
  },
  {
   "cell_type": "code",
   "execution_count": 31,
   "metadata": {},
   "outputs": [
    {
     "data": {
      "text/plain": [
       "array(['K', 'I', 'II'], dtype=object)"
      ]
     },
     "execution_count": 31,
     "metadata": {},
     "output_type": "execute_result"
    }
   ],
   "source": [
    "df_2015['Breed Type'].unique() "
   ]
  },
  {
   "cell_type": "code",
   "execution_count": 32,
   "metadata": {},
   "outputs": [
    {
     "name": "stdout",
     "output_type": "stream",
     "text": [
      "[32, 538, 733, 886, 870, 637, 386, 112, 9]\n",
      "[8, 232, 499, 564, 612, 369, 239, 48, 4]\n",
      "[0, 3, 8, 6, 6, 1, 1, 0, 0]\n"
     ]
    }
   ],
   "source": [
    "t1_2015, t2_2015, t3_2015 = [], [], []\n",
    "for age in label:\n",
    "    t1_2015.append(len(df_2015[(df_2015['Breed Type'] == 'K') & (df_2015.Age == age)]))\n",
    "    t2_2015.append(len(df_2015[(df_2015['Breed Type'] == 'I') & (df_2015.Age == age)]))\n",
    "    t3_2015.append(len(df_2015[(df_2015['Breed Type'] == 'II') & (df_2015.Age == age)]))\n",
    "print(t1_2015)\n",
    "print(t2_2015)\n",
    "print(t3_2015) "
   ]
  },
  {
   "cell_type": "code",
   "execution_count": 34,
   "metadata": {},
   "outputs": [
    {
     "name": "stdout",
     "output_type": "stream",
     "text": [
      "[33, 518, 783, 938, 871, 659, 407, 128, 11]\n",
      "[8, 243, 504, 548, 623, 351, 232, 45, 5]\n",
      "[0, 1, 6, 6, 6, 0, 1, 0, 0]\n"
     ]
    }
   ],
   "source": [
    "t1_2016, t2_2016, t3_2016 = [], [], []\n",
    "for age in label:\n",
    "    t1_2016.append(len(df_2016[(df_2016['Breed Type'] == 'K') & (df_2016.Age == age)]))\n",
    "    t2_2016.append(len(df_2016[(df_2016['Breed Type'] == 'I') & (df_2016.Age == age)]))\n",
    "    t3_2016.append(len(df_2016[(df_2016['Breed Type'] == 'II') & (df_2016.Age == age)]))\n",
    "print(t1_2016)\n",
    "print(t2_2016)\n",
    "print(t3_2016) "
   ]
  },
  {
   "cell_type": "code",
   "execution_count": 35,
   "metadata": {},
   "outputs": [
    {
     "name": "stdout",
     "output_type": "stream",
     "text": [
      "[31, 532, 833, 943, 925, 670, 434, 126, 10]\n",
      "[14, 255, 547, 540, 618, 369, 238, 46, 5]\n",
      "[0, 2, 3, 6, 4, 2, 1, 0, 0]\n"
     ]
    }
   ],
   "source": [
    "t1_2017, t2_2017, t3_2017 = [], [], []\n",
    "for age in label:\n",
    "    t1_2017.append(len(df_2017[(df_2017['Breed Type'] == 'K') & (df_2017.Age == age)]))\n",
    "    t2_2017.append(len(df_2017[(df_2017['Breed Type'] == 'I') & (df_2017.Age == age)]))\n",
    "    t3_2017.append(len(df_2017[(df_2017['Breed Type'] == 'II') & (df_2017.Age == age)]))\n",
    "print(t1_2017)\n",
    "print(t2_2017)\n",
    "print(t3_2017) "
   ]
  },
  {
   "cell_type": "code",
   "execution_count": 36,
   "metadata": {},
   "outputs": [
    {
     "data": {
      "text/plain": [
       "<matplotlib.legend.Legend at 0x1eb26895550>"
      ]
     },
     "execution_count": 36,
     "metadata": {},
     "output_type": "execute_result"
    },
    {
     "data": {
      "image/png": "[encoded data removed]",
      "text/plain": [
       "<Figure size 864x504 with 1 Axes>"
      ]
     },
     "metadata": {
      "needs_background": "light"
     },
     "output_type": "display_data"
    }
   ],
   "source": [
    "fig1,ax1 = plt.subplots(figsize=(12,7))\n",
    "rec = ax1.bar(x-width/2, t1_2015, width, label='Type K')\n",
    "rect = ax1.bar(x+width/2, t2_2015, width, label='Type I')\n",
    "rects = ax1.bar(x, t3_2015, width, label='Type II')\n",
    "ax1.set_xticks(x)\n",
    "ax1.set_xticklabels(label)\n",
    "ax1.set_ylabel('No. of Dogs')\n",
    "ax1.set_title('Type of Breed Ownership by Age Group 2015')\n",
    "ax1.legend() "
   ]
  },
  {
   "cell_type": "code",
   "execution_count": 37,
   "metadata": {},
   "outputs": [
    {
     "data": {
      "text/plain": [
       "<matplotlib.legend.Legend at 0x1eb26d04d30>"
      ]
     },
     "execution_count": 37,
     "metadata": {},
     "output_type": "execute_result"
    },
    {
     "data": {
      "image/png": "[encoded data removed]",
      "text/plain": [
       "<Figure size 864x504 with 1 Axes>"
      ]
     },
     "metadata": {
      "needs_background": "light"
     },
     "output_type": "display_data"
    }
   ],
   "source": [
    "fig1,ax1 = plt.subplots(figsize=(12,7))\n",
    "rec = ax1.bar(x-width/2, t1_2016, width, label='Type K')\n",
    "rect = ax1.bar(x+width/2, t2_2016, width, label='Type I')\n",
    "rects = ax1.bar(x, t3_2016, width, label='Type II')\n",
    "ax1.set_xticks(x)\n",
    "ax1.set_xticklabels(label)\n",
    "ax1.set_ylabel('No. of Dogs')\n",
    "ax1.set_title('Type of Breed Ownership by Age Group 2016')\n",
    "ax1.legend()"
   ]
  },
  {
   "cell_type": "code",
   "execution_count": 38,
   "metadata": {},
   "outputs": [
    {
     "data": {
      "text/plain": [
       "<matplotlib.legend.Legend at 0x1eb26daeca0>"
      ]
     },
     "execution_count": 38,
     "metadata": {},
     "output_type": "execute_result"
    },
    {
     "data": {
      "image/png": "[encoded data removed]",
      "text/plain": [
       "<Figure size 864x504 with 1 Axes>"
      ]
     },
     "metadata": {
      "needs_background": "light"
     },
     "output_type": "display_data"
    }
   ],
   "source": [
    "fig1,ax1 = plt.subplots(figsize=(12,7))\n",
    "rec = ax1.bar(x-width/2, t1_2017, width, label='Type K')\n",
    "rect = ax1.bar(x+width/2, t2_2017, width, label='Type I')\n",
    "rects = ax1.bar(x, t3_2017, width, label='Type II')\n",
    "ax1.set_xticks(x)\n",
    "ax1.set_xticklabels(label)\n",
    "ax1.set_ylabel('No. of Dogs')\n",
    "ax1.set_title('Type of Breed Ownership by Age Group 2017')\n",
    "ax1.legend()"
   ]
  },
  {
   "cell_type": "code",
   "execution_count": 40,
   "metadata": {},
   "outputs": [
    {
     "data": {
      "text/plain": [
       "array(['mahagoni/weiss', 'schwarz', 'beige/weiss', 'gestromt',\n",
       "       'dunkel gestromt', 'weiss/braun', 'gold/weiss', 'braun/weiss',\n",
       "       'braun/schwarz', 'schwarz gestromt', 'braun/schwarz/weiss',\n",
       "       'braun', 'wildfarbig', 'weiss'], dtype=object)"
      ]
     },
     "execution_count": 40,
     "metadata": {},
     "output_type": "execute_result"
    }
   ],
   "source": [
    "type_k_2015 = df_2015[df_2015['Breed Type'] == 'II']\n",
    "type_k_2015['Dog Hair Color'].unique() "
   ]
  },
  {
   "cell_type": "code",
   "execution_count": 41,
   "metadata": {},
   "outputs": [
    {
     "data": {
      "text/plain": [
       "array(['mahagoni/weiss', 'gestromt', 'schwarz', 'dunkel gestromt',\n",
       "       'beige/weiss', 'weiss/braun', 'braun/schwarz', 'schwarz gestromt',\n",
       "       'braun/schwarz/weiss', 'braun', 'braun/weiss', 'wildfarbig',\n",
       "       'weiss'], dtype=object)"
      ]
     },
     "execution_count": 41,
     "metadata": {},
     "output_type": "execute_result"
    }
   ],
   "source": [
    "type_k_2016 = df_2016[df_2016['Breed Type'] == 'II']\n",
    "type_k_2016['Dog Hair Color'].unique() "
   ]
  },
  {
   "cell_type": "code",
   "execution_count": 42,
   "metadata": {},
   "outputs": [
    {
     "data": {
      "text/plain": [
       "array(['mahagoni/weiss', 'gestromt', 'schwarz', 'beige/weiss',\n",
       "       'braun/schwarz', 'schwarz gestromt', 'braun/schwarz/weiss',\n",
       "       'braun', 'braun/weiss', 'wildfarbig', 'weiss', 'beige/braun'],\n",
       "      dtype=object)"
      ]
     },
     "execution_count": 42,
     "metadata": {},
     "output_type": "execute_result"
    }
   ],
   "source": [
    "type_k_2017 = df_2017[df_2017['Breed Type'] == 'II']\n",
    "type_k_2017['Dog Hair Color'].unique()"
   ]
  },
  {
   "cell_type": "code",
   "execution_count": 43,
   "metadata": {},
   "outputs": [],
   "source": [
    "colors = ['schwarz', 'blue', 'braun', 'wildfarbig', 'weiss', 'orange']\n",
    "y = np.arange(len(colors))"
   ]
  },
  {
   "cell_type": "code",
   "execution_count": 45,
   "metadata": {},
   "outputs": [
    {
     "name": "stdout",
     "output_type": "stream",
     "text": [
      "[336, 4, 307, 5, 442, 17] [382, 2, 210, 4, 84, 3] [5, 0, 3, 1, 1, 0]\n"
     ]
    }
   ],
   "source": [
    "d1_2015, d2_2015, d3_2015 = [], [], []\n",
    "for c in colors:\n",
    "    d1_2015.append(len(df_2015[(df_2015['Breed Type'] == 'K') & (df_2015['Dog Hair Color'] == c)]))\n",
    "    d2_2015.append(len(df_2015[(df_2015['Breed Type'] == 'I') & (df_2015['Dog Hair Color'] == c)]))\n",
    "    d3_2015.append(len(df_2015[(df_2015['Breed Type'] == 'II') & (df_2015['Dog Hair Color'] == c)]))\n",
    "    \n",
    "print(d1_2015,d2_2015,d3_2015) "
   ]
  },
  {
   "cell_type": "code",
   "execution_count": 46,
   "metadata": {},
   "outputs": [
    {
     "name": "stdout",
     "output_type": "stream",
     "text": [
      "[355, 4, 306, 7, 454, 18] [387, 2, 210, 3, 81, 3] [4, 0, 2, 1, 1, 0]\n"
     ]
    }
   ],
   "source": [
    "d1_2016, d2_2016, d3_2016 = [], [], []\n",
    "for c in colors:\n",
    "    d1_2016.append(len(df_2016[(df_2016['Breed Type'] == 'K') & (df_2016['Dog Hair Color'] == c)]))\n",
    "    d2_2016.append(len(df_2016[(df_2016['Breed Type'] == 'I') & (df_2016['Dog Hair Color'] == c)]))\n",
    "    d3_2016.append(len(df_2016[(df_2016['Breed Type'] == 'II') & (df_2016['Dog Hair Color'] == c)]))\n",
    "    \n",
    "print(d1_2016,d2_2016,d3_2016) "
   ]
  },
  {
   "cell_type": "code",
   "execution_count": 47,
   "metadata": {},
   "outputs": [
    {
     "name": "stdout",
     "output_type": "stream",
     "text": [
      "[367, 4, 318, 5, 488, 27] [405, 2, 216, 4, 92, 4] [4, 0, 2, 1, 1, 0]\n"
     ]
    }
   ],
   "source": [
    "d1_2017, d2_2017, d3_2017 = [], [], []\n",
    "for c in colors:\n",
    "    d1_2017.append(len(df_2017[(df_2017['Breed Type'] == 'K') & (df_2017['Dog Hair Color'] == c)]))\n",
    "    d2_2017.append(len(df_2017[(df_2017['Breed Type'] == 'I') & (df_2017['Dog Hair Color'] == c)]))\n",
    "    d3_2017.append(len(df_2017[(df_2017['Breed Type'] == 'II') & (df_2017['Dog Hair Color'] == c)]))\n",
    "    \n",
    "print(d1_2017,d2_2017,d3_2017)"
   ]
  },
  {
   "cell_type": "code",
   "execution_count": 48,
   "metadata": {},
   "outputs": [
    {
     "data": {
      "text/plain": [
       "<matplotlib.legend.Legend at 0x1eb26dd2f10>"
      ]
     },
     "execution_count": 48,
     "metadata": {},
     "output_type": "execute_result"
    },
    {
     "data": {
      "image/png": "[encoded data removed]",
      "text/plain": [
       "<Figure size 864x504 with 1 Axes>"
      ]
     },
     "metadata": {
      "needs_background": "light"
     },
     "output_type": "display_data"
    }
   ],
   "source": [
    "fig2, ax2 = plt.subplots(figsize=(12,7))\n",
    "type_one = ax2.plot(y, d1_2015, '-o', label='Type K')\n",
    "type_two = ax2.plot(y, d2_2015, '-o', label='Type I')\n",
    "type_three = ax2.plot(y, d3_2015, '-o', label='Type II')\n",
    "ax2.set_xticks(y)\n",
    "ax2.set_xticklabels(colors)\n",
    "ax2.set_ylabel('No. of Dogs')\n",
    "ax2.set_title('Selected Colors Distribution among Breed Type 2015')\n",
    "ax2.legend()"
   ]
  },
  {
   "cell_type": "code",
   "execution_count": 49,
   "metadata": {},
   "outputs": [
    {
     "data": {
      "text/plain": [
       "<matplotlib.legend.Legend at 0x1eb26206460>"
      ]
     },
     "execution_count": 49,
     "metadata": {},
     "output_type": "execute_result"
    },
    {
     "data": {
      "image/png": "[encoded data removed]",
      "text/plain": [
       "<Figure size 864x504 with 1 Axes>"
      ]
     },
     "metadata": {
      "needs_background": "light"
     },
     "output_type": "display_data"
    }
   ],
   "source": [
    "fig2, ax2 = plt.subplots(figsize=(12,7))\n",
    "type_one = ax2.plot(y, d1_2016, '-o', label='Type K')\n",
    "type_two = ax2.plot(y, d2_2016, '-o', label='Type I')\n",
    "type_three = ax2.plot(y, d3_2016, '-o', label='Type II')\n",
    "ax2.set_xticks(y)\n",
    "ax2.set_xticklabels(colors)\n",
    "ax2.set_ylabel('No. of Dogs')\n",
    "ax2.set_title('Selected Colors Distribution among Breed Type 2016')\n",
    "ax2.legend()"
   ]
  },
  {
   "cell_type": "code",
   "execution_count": 50,
   "metadata": {},
   "outputs": [
    {
     "data": {
      "text/plain": [
       "<matplotlib.legend.Legend at 0x1eb26d36490>"
      ]
     },
     "execution_count": 50,
     "metadata": {},
     "output_type": "execute_result"
    },
    {
     "data": {
      "image/png": "[encoded data removed]",
      "text/plain": [
       "<Figure size 864x504 with 1 Axes>"
      ]
     },
     "metadata": {
      "needs_background": "light"
     },
     "output_type": "display_data"
    }
   ],
   "source": [
    "fig2, ax2 = plt.subplots(figsize=(12,7))\n",
    "type_one = ax2.plot(y, d1_2017, '-o', label='Type K')\n",
    "type_two = ax2.plot(y, d2_2017, '-o', label='Type I')\n",
    "type_three = ax2.plot(y, d3_2017, '-o', label='Type II')\n",
    "ax2.set_xticks(y)\n",
    "ax2.set_xticklabels(colors)\n",
    "ax2.set_ylabel('No. of Dogs')\n",
    "ax2.set_title('Selected Colors Distribution among Breed Type 2017')\n",
    "ax2.legend() "
   ]
  },
  {
   "cell_type": "code",
   "execution_count": null,
   "metadata": {},
   "outputs": [],
   "source": []
  }
 ],
 "metadata": {
  "kernelspec": {
   "display_name": "Python 3",
   "language": "python",
   "name": "python3"
  },
  "language_info": {
   "codemirror_mode": {
    "name": "ipython",
    "version": 3
   },
   "file_extension": ".py",
   "mimetype": "text/x-python",
   "name": "python",
   "nbconvert_exporter": "python",
   "pygments_lexer": "ipython3",
   "version": "3.8.5"
  }
 },
 "nbformat": 4,
 "nbformat_minor": 4
}
